{
 "cells": [
  {
   "cell_type": "code",
   "execution_count": 10,
   "metadata": {},
   "outputs": [],
   "source": [
    "#logging 3 main concepts\n",
    "# logger  , handler , formatter \n"
   ]
  },
  {
   "cell_type": "code",
   "execution_count": 11,
   "metadata": {},
   "outputs": [],
   "source": [
    "import logging"
   ]
  },
  {
   "cell_type": "code",
   "execution_count": 12,
   "metadata": {},
   "outputs": [],
   "source": [
    "logger = logging.getLogger(name = 'data_ingestion_logger')\n",
    "logger.setLevel('DEBUG')"
   ]
  },
  {
   "cell_type": "code",
   "execution_count": 13,
   "metadata": {},
   "outputs": [
    {
     "name": "stderr",
     "output_type": "stream",
     "text": [
      "2024-07-20 11:49:23,762 - data_ingestion_logger - DEBUG - This is a debug message\n",
      "2024-07-20 11:49:23,762 - data_ingestion_logger - DEBUG - This is a debug message\n",
      "2024-07-20 11:49:23,762 - data_ingestion_logger - DEBUG - This is a debug message\n",
      "2024-07-20 11:49:23,766 - data_ingestion_logger - INFO - This is an info message\n",
      "2024-07-20 11:49:23,766 - data_ingestion_logger - INFO - This is an info message\n",
      "2024-07-20 11:49:23,766 - data_ingestion_logger - INFO - This is an info message\n",
      "2024-07-20 11:49:23,770 - data_ingestion_logger - WARNING - This is a warning message\n",
      "2024-07-20 11:49:23,770 - data_ingestion_logger - WARNING - This is a warning message\n",
      "2024-07-20 11:49:23,770 - data_ingestion_logger - WARNING - This is a warning message\n",
      "2024-07-20 11:49:23,775 - data_ingestion_logger - ERROR - This is an error message\n",
      "2024-07-20 11:49:23,775 - data_ingestion_logger - ERROR - This is an error message\n",
      "2024-07-20 11:49:23,775 - data_ingestion_logger - ERROR - This is an error message\n",
      "2024-07-20 11:49:23,777 - data_ingestion_logger - CRITICAL - This is a critical message\n",
      "2024-07-20 11:49:23,777 - data_ingestion_logger - CRITICAL - This is a critical message\n",
      "2024-07-20 11:49:23,777 - data_ingestion_logger - CRITICAL - This is a critical message\n"
     ]
    }
   ],
   "source": [
    "import logging\n",
    "\n",
    "# Create logger\n",
    "logger = logging.getLogger('data_ingestion_logger')\n",
    "logger.setLevel(logging.DEBUG)\n",
    "\n",
    "# Create console handler and set level to DEBUG\n",
    "console_handler = logging.StreamHandler()\n",
    "console_handler.setLevel(logging.DEBUG)\n",
    "\n",
    "# Define formatter\n",
    "formatter = logging.Formatter('%(asctime)s - %(name)s - %(levelname)s - %(message)s')\n",
    "\n",
    "# Assign formatter to handler\n",
    "console_handler.setFormatter(formatter)\n",
    "\n",
    "# Add console handler to logger\n",
    "logger.addHandler(console_handler)\n",
    "\n",
    "# Test logging at different levels\n",
    "logger.debug('This is a debug message')\n",
    "logger.info('This is an info message')\n",
    "logger.warning('This is a warning message')\n",
    "logger.error('This is an error message')\n",
    "logger.critical('This is a critical message')\n"
   ]
  },
  {
   "cell_type": "markdown",
   "metadata": {},
   "source": [
    "1 logger can have multiple handelers "
   ]
  },
  {
   "cell_type": "code",
   "execution_count": 14,
   "metadata": {},
   "outputs": [],
   "source": [
    "file_handler = logging.FileHandler('error.log') #crease a new file error.log if not existed and store the logs \n",
    "\n",
    "file_handler.setLevel('ERROR') # file ma halnu baneko  , productiontira herna jasto , so error haru \n",
    "\n",
    "file_handler.setFormatter(formatter) #usssing same previous formamater \n",
    "\n",
    "logger.addHandler(file_handler)\n",
    "\n"
   ]
  },
  {
   "cell_type": "code",
   "execution_count": 15,
   "metadata": {},
   "outputs": [
    {
     "name": "stderr",
     "output_type": "stream",
     "text": [
      "2024-07-20 11:49:24,676 - data_ingestion_logger - DEBUG - This is a debug message\n",
      "2024-07-20 11:49:24,676 - data_ingestion_logger - DEBUG - This is a debug message\n",
      "2024-07-20 11:49:24,676 - data_ingestion_logger - DEBUG - This is a debug message\n",
      "2024-07-20 11:49:24,678 - data_ingestion_logger - INFO - This is an info message\n",
      "2024-07-20 11:49:24,678 - data_ingestion_logger - INFO - This is an info message\n",
      "2024-07-20 11:49:24,678 - data_ingestion_logger - INFO - This is an info message\n",
      "2024-07-20 11:49:24,682 - data_ingestion_logger - WARNING - This is a warning message\n",
      "2024-07-20 11:49:24,682 - data_ingestion_logger - WARNING - This is a warning message\n",
      "2024-07-20 11:49:24,682 - data_ingestion_logger - WARNING - This is a warning message\n",
      "2024-07-20 11:49:24,687 - data_ingestion_logger - ERROR - This is an error message\n",
      "2024-07-20 11:49:24,687 - data_ingestion_logger - ERROR - This is an error message\n",
      "2024-07-20 11:49:24,687 - data_ingestion_logger - ERROR - This is an error message\n",
      "2024-07-20 11:49:24,691 - data_ingestion_logger - CRITICAL - This is a critical message\n",
      "2024-07-20 11:49:24,691 - data_ingestion_logger - CRITICAL - This is a critical message\n",
      "2024-07-20 11:49:24,691 - data_ingestion_logger - CRITICAL - This is a critical message\n"
     ]
    }
   ],
   "source": [
    "\n",
    "\n",
    "# Test logging at different levels\n",
    "logger.debug('This is a debug message')\n",
    "logger.info('This is an info message')\n",
    "logger.warning('This is a warning message')\n",
    "logger.error('This is an error message')\n",
    "logger.critical('This is a critical message')\n",
    "\n",
    "#print both on console  , and one file error.log"
   ]
  },
  {
   "cell_type": "markdown",
   "metadata": {},
   "source": [
    "## logging Done  "
   ]
  },
  {
   "cell_type": "code",
   "execution_count": null,
   "metadata": {},
   "outputs": [],
   "source": []
  }
 ],
 "metadata": {
  "kernelspec": {
   "display_name": "mlenv",
   "language": "python",
   "name": "python3"
  },
  "language_info": {
   "codemirror_mode": {
    "name": "ipython",
    "version": 3
   },
   "file_extension": ".py",
   "mimetype": "text/x-python",
   "name": "python",
   "nbconvert_exporter": "python",
   "pygments_lexer": "ipython3",
   "version": "3.11.9"
  }
 },
 "nbformat": 4,
 "nbformat_minor": 2
}
